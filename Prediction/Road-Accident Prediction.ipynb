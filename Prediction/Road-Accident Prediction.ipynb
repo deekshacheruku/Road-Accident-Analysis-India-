{
 "cells": [
  {
   "cell_type": "code",
   "execution_count": 2,
   "metadata": {},
   "outputs": [],
   "source": [
    "#Import required libraries\n",
    "from sklearn.ensemble import AdaBoostClassifier\n",
    "from sklearn import metrics\n",
    "from sklearn.model_selection import train_test_split\n",
    "from sklearn.preprocessing import LabelEncoder\n",
    "\n",
    "import pandas as pd\n",
    "import numpy as np"
   ]
  },
  {
   "cell_type": "code",
   "execution_count": 3,
   "metadata": {},
   "outputs": [
    {
     "data": {
      "text/html": [
       "<div>\n",
       "<style scoped>\n",
       "    .dataframe tbody tr th:only-of-type {\n",
       "        vertical-align: middle;\n",
       "    }\n",
       "\n",
       "    .dataframe tbody tr th {\n",
       "        vertical-align: top;\n",
       "    }\n",
       "\n",
       "    .dataframe thead th {\n",
       "        text-align: right;\n",
       "    }\n",
       "</style>\n",
       "<table border=\"1\" class=\"dataframe\">\n",
       "  <thead>\n",
       "    <tr style=\"text-align: right;\">\n",
       "      <th></th>\n",
       "      <th>States/UTs</th>\n",
       "      <th>JUNCTION</th>\n",
       "      <th>VEHICLE AGE</th>\n",
       "      <th>HUMAN AGE AND SEX</th>\n",
       "      <th>PERSON WITHOUT SAFETY PRECAUTIONS</th>\n",
       "      <th>AREA</th>\n",
       "      <th>TYPE OF PLACE</th>\n",
       "      <th>LOAD OF VEHICLE</th>\n",
       "      <th>TRAFFIC RULES VIOLATION</th>\n",
       "      <th>WEATHER</th>\n",
       "      <th>VEHICLE TYPE AND SEX</th>\n",
       "      <th>TYPE OF ROAD</th>\n",
       "      <th>LICENSE</th>\n",
       "      <th>TIME</th>\n",
       "      <th>ACCIDENT OCCURRENCE</th>\n",
       "    </tr>\n",
       "  </thead>\n",
       "  <tbody>\n",
       "    <tr>\n",
       "      <th>0</th>\n",
       "      <td>Andhra Pradesh</td>\n",
       "      <td>T-Junction</td>\n",
       "      <td>Less than 5 years</td>\n",
       "      <td>18 Yrs -Male</td>\n",
       "      <td>Drivers</td>\n",
       "      <td>Residential Area</td>\n",
       "      <td>Urban</td>\n",
       "      <td>Normally Loaded</td>\n",
       "      <td>Over-Speeding</td>\n",
       "      <td>Sunny/Clear</td>\n",
       "      <td>Pedestrian - Male</td>\n",
       "      <td>Straight Road</td>\n",
       "      <td>License Valid Permanent</td>\n",
       "      <td>06-0900hrs - (Day)</td>\n",
       "      <td>YES</td>\n",
       "    </tr>\n",
       "    <tr>\n",
       "      <th>1</th>\n",
       "      <td>Andhra Pradesh</td>\n",
       "      <td>Y-Junction</td>\n",
       "      <td>5.1 - 10 Years</td>\n",
       "      <td>18 Yrs - Female</td>\n",
       "      <td>Passengers</td>\n",
       "      <td>Institutional Area</td>\n",
       "      <td>Rural</td>\n",
       "      <td>Overloaded/Hangin</td>\n",
       "      <td>Drunken Driving/Consumption of Alcohol &amp; Drug</td>\n",
       "      <td>Rainy</td>\n",
       "      <td>Pedestrian - Female</td>\n",
       "      <td>Curved Road</td>\n",
       "      <td>Learner's Licence</td>\n",
       "      <td>09-1200hrs - (Day)</td>\n",
       "      <td>YES</td>\n",
       "    </tr>\n",
       "    <tr>\n",
       "      <th>2</th>\n",
       "      <td>Andhra Pradesh</td>\n",
       "      <td>Four arm Junction</td>\n",
       "      <td>10.1 - 15 Years</td>\n",
       "      <td>18-25 Yrs - Male</td>\n",
       "      <td>Drivers</td>\n",
       "      <td>Market/Commercial Area</td>\n",
       "      <td>Urban</td>\n",
       "      <td>Others</td>\n",
       "      <td>Driving on Wrong Side</td>\n",
       "      <td>Foggy &amp; Misty</td>\n",
       "      <td>Bycycles - Male</td>\n",
       "      <td>Bridge</td>\n",
       "      <td>Without Licence</td>\n",
       "      <td>12-1500hrs - (Day)</td>\n",
       "      <td>YES</td>\n",
       "    </tr>\n",
       "    <tr>\n",
       "      <th>3</th>\n",
       "      <td>Andhra Pradesh</td>\n",
       "      <td>Staggered Junction</td>\n",
       "      <td>&gt; 15 Years</td>\n",
       "      <td>18-25 Yrs - Female</td>\n",
       "      <td>Passengers</td>\n",
       "      <td>Open Area</td>\n",
       "      <td>Rural</td>\n",
       "      <td>Normally Loaded</td>\n",
       "      <td>Jumping Red Light</td>\n",
       "      <td>Hail/Sleet</td>\n",
       "      <td>Bycycles - Female</td>\n",
       "      <td>Culvert</td>\n",
       "      <td>License Valid Permanent</td>\n",
       "      <td>15-1800hrs - (Day)</td>\n",
       "      <td>YES</td>\n",
       "    </tr>\n",
       "    <tr>\n",
       "      <th>4</th>\n",
       "      <td>Andhra Pradesh</td>\n",
       "      <td>Round about Junction</td>\n",
       "      <td>Age not known</td>\n",
       "      <td>25-35 Yrs- Male</td>\n",
       "      <td>Drivers</td>\n",
       "      <td>Residential Area</td>\n",
       "      <td>Urban</td>\n",
       "      <td>Overloaded/Hangin</td>\n",
       "      <td>Use of Mobile Phone</td>\n",
       "      <td>Others</td>\n",
       "      <td>Two Wheelers - Male</td>\n",
       "      <td>Pot Holes</td>\n",
       "      <td>Learner's Licence</td>\n",
       "      <td>18-2100hrs - (Night)</td>\n",
       "      <td>YES</td>\n",
       "    </tr>\n",
       "    <tr>\n",
       "      <th>...</th>\n",
       "      <td>...</td>\n",
       "      <td>...</td>\n",
       "      <td>...</td>\n",
       "      <td>...</td>\n",
       "      <td>...</td>\n",
       "      <td>...</td>\n",
       "      <td>...</td>\n",
       "      <td>...</td>\n",
       "      <td>...</td>\n",
       "      <td>...</td>\n",
       "      <td>...</td>\n",
       "      <td>...</td>\n",
       "      <td>...</td>\n",
       "      <td>...</td>\n",
       "      <td>...</td>\n",
       "    </tr>\n",
       "    <tr>\n",
       "      <th>571</th>\n",
       "      <td>Puducherry</td>\n",
       "      <td>Others</td>\n",
       "      <td>5.1 - 10 Years</td>\n",
       "      <td>60 Yrs above -Female</td>\n",
       "      <td>Passengers</td>\n",
       "      <td>Open Area</td>\n",
       "      <td>Rural</td>\n",
       "      <td>Others</td>\n",
       "      <td>Drunken Driving/Consumption of Alcohol &amp; Drug</td>\n",
       "      <td>Rainy</td>\n",
       "      <td>Trucks/Lorries - Female</td>\n",
       "      <td>Culvert</td>\n",
       "      <td>Without Licence</td>\n",
       "      <td>12-1500hrs - (Day)</td>\n",
       "      <td>NO</td>\n",
       "    </tr>\n",
       "    <tr>\n",
       "      <th>572</th>\n",
       "      <td>Puducherry</td>\n",
       "      <td>Y-Junction</td>\n",
       "      <td>10.1 - 15 Years</td>\n",
       "      <td>Age not known - Male</td>\n",
       "      <td>Drivers</td>\n",
       "      <td>Residential Area</td>\n",
       "      <td>Urban</td>\n",
       "      <td>Normally Loaded</td>\n",
       "      <td>Driving on Wrong Side</td>\n",
       "      <td>Foggy &amp; Misty</td>\n",
       "      <td>Buses - Male</td>\n",
       "      <td>Pot Holes</td>\n",
       "      <td>License Valid Permanent</td>\n",
       "      <td>15-1800hrs - (Day)</td>\n",
       "      <td>NO</td>\n",
       "    </tr>\n",
       "    <tr>\n",
       "      <th>573</th>\n",
       "      <td>Puducherry</td>\n",
       "      <td>Four arm Junction</td>\n",
       "      <td>&gt; 15 Years</td>\n",
       "      <td>Age not known - Female</td>\n",
       "      <td>Passengers</td>\n",
       "      <td>Institutional Area</td>\n",
       "      <td>Rural</td>\n",
       "      <td>Overloaded/Hangin</td>\n",
       "      <td>Jumping Red Light</td>\n",
       "      <td>Hail/Sleet</td>\n",
       "      <td>Buses - Female</td>\n",
       "      <td>Steep Grade</td>\n",
       "      <td>Learner's Licence</td>\n",
       "      <td>18-2100hrs - (Night)</td>\n",
       "      <td>NO</td>\n",
       "    </tr>\n",
       "    <tr>\n",
       "      <th>574</th>\n",
       "      <td>Puducherry</td>\n",
       "      <td>Staggered Junction</td>\n",
       "      <td>Age not known</td>\n",
       "      <td>Age not known - Female</td>\n",
       "      <td>Passengers</td>\n",
       "      <td>Market/Commercial Area</td>\n",
       "      <td>Urban</td>\n",
       "      <td>Others</td>\n",
       "      <td>Use of Mobile Phone</td>\n",
       "      <td>Others</td>\n",
       "      <td>Other Motor Vehicles - Male</td>\n",
       "      <td>Ongoing Road Works/Under Construction</td>\n",
       "      <td>Without Licence</td>\n",
       "      <td>21-2400hrs - (Night)</td>\n",
       "      <td>NO</td>\n",
       "    </tr>\n",
       "    <tr>\n",
       "      <th>575</th>\n",
       "      <td>Puducherry</td>\n",
       "      <td>Staggered Junction</td>\n",
       "      <td>Age not known</td>\n",
       "      <td>Age not known - Female</td>\n",
       "      <td>Passengers</td>\n",
       "      <td>Open Area</td>\n",
       "      <td>Rural</td>\n",
       "      <td>Others</td>\n",
       "      <td>Use of Mobile Phone</td>\n",
       "      <td>Others</td>\n",
       "      <td>Other Motor Vehicles - Female</td>\n",
       "      <td>Others</td>\n",
       "      <td>Without Licence</td>\n",
       "      <td>00-300hrs - (Night)</td>\n",
       "      <td>NO</td>\n",
       "    </tr>\n",
       "  </tbody>\n",
       "</table>\n",
       "<p>576 rows × 15 columns</p>\n",
       "</div>"
      ],
      "text/plain": [
       "         States/UTs              JUNCTION        VEHICLE AGE  \\\n",
       "0    Andhra Pradesh            T-Junction  Less than 5 years   \n",
       "1    Andhra Pradesh            Y-Junction     5.1 - 10 Years   \n",
       "2    Andhra Pradesh     Four arm Junction    10.1 - 15 Years   \n",
       "3    Andhra Pradesh    Staggered Junction         > 15 Years   \n",
       "4    Andhra Pradesh  Round about Junction      Age not known   \n",
       "..              ...                   ...                ...   \n",
       "571      Puducherry                Others     5.1 - 10 Years   \n",
       "572      Puducherry            Y-Junction    10.1 - 15 Years   \n",
       "573      Puducherry     Four arm Junction         > 15 Years   \n",
       "574      Puducherry    Staggered Junction      Age not known   \n",
       "575      Puducherry    Staggered Junction      Age not known   \n",
       "\n",
       "          HUMAN AGE AND SEX PERSON WITHOUT SAFETY PRECAUTIONS   \\\n",
       "0              18 Yrs -Male                            Drivers   \n",
       "1           18 Yrs - Female                         Passengers   \n",
       "2          18-25 Yrs - Male                            Drivers   \n",
       "3        18-25 Yrs - Female                         Passengers   \n",
       "4           25-35 Yrs- Male                            Drivers   \n",
       "..                      ...                                ...   \n",
       "571    60 Yrs above -Female                         Passengers   \n",
       "572    Age not known - Male                            Drivers   \n",
       "573  Age not known - Female                         Passengers   \n",
       "574  Age not known - Female                         Passengers   \n",
       "575  Age not known - Female                         Passengers   \n",
       "\n",
       "                       AREA TYPE OF PLACE    LOAD OF VEHICLE  \\\n",
       "0          Residential Area         Urban    Normally Loaded   \n",
       "1        Institutional Area         Rural  Overloaded/Hangin   \n",
       "2    Market/Commercial Area         Urban             Others   \n",
       "3                 Open Area         Rural    Normally Loaded   \n",
       "4          Residential Area         Urban  Overloaded/Hangin   \n",
       "..                      ...           ...                ...   \n",
       "571               Open Area         Rural             Others   \n",
       "572        Residential Area         Urban    Normally Loaded   \n",
       "573      Institutional Area         Rural  Overloaded/Hangin   \n",
       "574  Market/Commercial Area         Urban             Others   \n",
       "575               Open Area         Rural             Others   \n",
       "\n",
       "                           TRAFFIC RULES VIOLATION        WEATHER  \\\n",
       "0                                    Over-Speeding    Sunny/Clear   \n",
       "1    Drunken Driving/Consumption of Alcohol & Drug          Rainy   \n",
       "2                            Driving on Wrong Side  Foggy & Misty   \n",
       "3                                Jumping Red Light     Hail/Sleet   \n",
       "4                              Use of Mobile Phone         Others   \n",
       "..                                             ...            ...   \n",
       "571  Drunken Driving/Consumption of Alcohol & Drug          Rainy   \n",
       "572                          Driving on Wrong Side  Foggy & Misty   \n",
       "573                              Jumping Red Light     Hail/Sleet   \n",
       "574                            Use of Mobile Phone         Others   \n",
       "575                            Use of Mobile Phone         Others   \n",
       "\n",
       "              VEHICLE TYPE AND SEX                           TYPE OF ROAD  \\\n",
       "0                Pedestrian - Male                          Straight Road   \n",
       "1              Pedestrian - Female                            Curved Road   \n",
       "2                  Bycycles - Male                                 Bridge   \n",
       "3                Bycycles - Female                                Culvert   \n",
       "4              Two Wheelers - Male                              Pot Holes   \n",
       "..                             ...                                    ...   \n",
       "571        Trucks/Lorries - Female                                Culvert   \n",
       "572                   Buses - Male                              Pot Holes   \n",
       "573                 Buses - Female                            Steep Grade   \n",
       "574    Other Motor Vehicles - Male  Ongoing Road Works/Under Construction   \n",
       "575  Other Motor Vehicles - Female                                 Others   \n",
       "\n",
       "                     LICENSE                  TIME ACCIDENT OCCURRENCE  \n",
       "0    License Valid Permanent    06-0900hrs - (Day)                 YES  \n",
       "1          Learner's Licence    09-1200hrs - (Day)                 YES  \n",
       "2            Without Licence    12-1500hrs - (Day)                 YES  \n",
       "3    License Valid Permanent    15-1800hrs - (Day)                 YES  \n",
       "4          Learner's Licence  18-2100hrs - (Night)                 YES  \n",
       "..                       ...                   ...                 ...  \n",
       "571          Without Licence    12-1500hrs - (Day)                  NO  \n",
       "572  License Valid Permanent    15-1800hrs - (Day)                  NO  \n",
       "573        Learner's Licence  18-2100hrs - (Night)                  NO  \n",
       "574          Without Licence  21-2400hrs - (Night)                  NO  \n",
       "575          Without Licence   00-300hrs - (Night)                  NO  \n",
       "\n",
       "[576 rows x 15 columns]"
      ]
     },
     "execution_count": 3,
     "metadata": {},
     "output_type": "execute_result"
    }
   ],
   "source": [
    "#Read the final Dataset after al the Pre processing Steps\n",
    "roadAccidentData = pd.read_csv('Final Road Accident Dataset.csv')\n",
    "roadAccidentData"
   ]
  },
  {
   "cell_type": "code",
   "execution_count": 4,
   "metadata": {},
   "outputs": [
    {
     "name": "stdout",
     "output_type": "stream",
     "text": [
      "         States/UTs              JUNCTION        VEHICLE AGE  \\\n",
      "0    Andhra Pradesh            T-Junction  Less than 5 years   \n",
      "1    Andhra Pradesh            Y-Junction     5.1 - 10 Years   \n",
      "2    Andhra Pradesh     Four arm Junction    10.1 - 15 Years   \n",
      "3    Andhra Pradesh    Staggered Junction         > 15 Years   \n",
      "4    Andhra Pradesh  Round about Junction      Age not known   \n",
      "..              ...                   ...                ...   \n",
      "571      Puducherry                Others     5.1 - 10 Years   \n",
      "572      Puducherry            Y-Junction    10.1 - 15 Years   \n",
      "573      Puducherry     Four arm Junction         > 15 Years   \n",
      "574      Puducherry    Staggered Junction      Age not known   \n",
      "575      Puducherry    Staggered Junction      Age not known   \n",
      "\n",
      "          HUMAN AGE AND SEX PERSON WITHOUT SAFETY PRECAUTIONS   \\\n",
      "0              18 Yrs -Male                            Drivers   \n",
      "1           18 Yrs - Female                         Passengers   \n",
      "2          18-25 Yrs - Male                            Drivers   \n",
      "3        18-25 Yrs - Female                         Passengers   \n",
      "4           25-35 Yrs- Male                            Drivers   \n",
      "..                      ...                                ...   \n",
      "571    60 Yrs above -Female                         Passengers   \n",
      "572    Age not known - Male                            Drivers   \n",
      "573  Age not known - Female                         Passengers   \n",
      "574  Age not known - Female                         Passengers   \n",
      "575  Age not known - Female                         Passengers   \n",
      "\n",
      "                       AREA TYPE OF PLACE    LOAD OF VEHICLE  \\\n",
      "0          Residential Area         Urban    Normally Loaded   \n",
      "1        Institutional Area         Rural  Overloaded/Hangin   \n",
      "2    Market/Commercial Area         Urban             Others   \n",
      "3                 Open Area         Rural    Normally Loaded   \n",
      "4          Residential Area         Urban  Overloaded/Hangin   \n",
      "..                      ...           ...                ...   \n",
      "571               Open Area         Rural             Others   \n",
      "572        Residential Area         Urban    Normally Loaded   \n",
      "573      Institutional Area         Rural  Overloaded/Hangin   \n",
      "574  Market/Commercial Area         Urban             Others   \n",
      "575               Open Area         Rural             Others   \n",
      "\n",
      "                           TRAFFIC RULES VIOLATION        WEATHER  \\\n",
      "0                                    Over-Speeding    Sunny/Clear   \n",
      "1    Drunken Driving/Consumption of Alcohol & Drug          Rainy   \n",
      "2                            Driving on Wrong Side  Foggy & Misty   \n",
      "3                                Jumping Red Light     Hail/Sleet   \n",
      "4                              Use of Mobile Phone         Others   \n",
      "..                                             ...            ...   \n",
      "571  Drunken Driving/Consumption of Alcohol & Drug          Rainy   \n",
      "572                          Driving on Wrong Side  Foggy & Misty   \n",
      "573                              Jumping Red Light     Hail/Sleet   \n",
      "574                            Use of Mobile Phone         Others   \n",
      "575                            Use of Mobile Phone         Others   \n",
      "\n",
      "              VEHICLE TYPE AND SEX                           TYPE OF ROAD  \\\n",
      "0                Pedestrian - Male                          Straight Road   \n",
      "1              Pedestrian - Female                            Curved Road   \n",
      "2                  Bycycles - Male                                 Bridge   \n",
      "3                Bycycles - Female                                Culvert   \n",
      "4              Two Wheelers - Male                              Pot Holes   \n",
      "..                             ...                                    ...   \n",
      "571        Trucks/Lorries - Female                                Culvert   \n",
      "572                   Buses - Male                              Pot Holes   \n",
      "573                 Buses - Female                            Steep Grade   \n",
      "574    Other Motor Vehicles - Male  Ongoing Road Works/Under Construction   \n",
      "575  Other Motor Vehicles - Female                                 Others   \n",
      "\n",
      "                     LICENSE                  TIME  \n",
      "0    License Valid Permanent    06-0900hrs - (Day)  \n",
      "1          Learner's Licence    09-1200hrs - (Day)  \n",
      "2            Without Licence    12-1500hrs - (Day)  \n",
      "3    License Valid Permanent    15-1800hrs - (Day)  \n",
      "4          Learner's Licence  18-2100hrs - (Night)  \n",
      "..                       ...                   ...  \n",
      "571          Without Licence    12-1500hrs - (Day)  \n",
      "572  License Valid Permanent    15-1800hrs - (Day)  \n",
      "573        Learner's Licence  18-2100hrs - (Night)  \n",
      "574          Without Licence  21-2400hrs - (Night)  \n",
      "575          Without Licence   00-300hrs - (Night)  \n",
      "\n",
      "[576 rows x 14 columns]\n"
     ]
    }
   ],
   "source": [
    "#Separate the traget column and other columns\n",
    "target = roadAccidentData.iloc[:,14]\n",
    "accidentData = roadAccidentData.iloc[:,:14]\n",
    "accidentDataDummy = roadAccidentData.iloc[:,:14]\n",
    "print(accidentData)"
   ]
  },
  {
   "cell_type": "code",
   "execution_count": 9,
   "metadata": {},
   "outputs": [
    {
     "name": "stdout",
     "output_type": "stream",
     "text": [
      "Accuracy: 0.9479768786127167\n"
     ]
    }
   ],
   "source": [
    "#Use Label Encoder to convert the categorial data into Numerical data for Prediction\n",
    "labelencoder = LabelEncoder()\n",
    "columnsToEncode = list(accidentData.select_dtypes(include=['category','object']))\n",
    "for feature in columnsToEncode:\n",
    "    accidentData[feature] = labelencoder.fit_transform(accidentDataDummy[feature])\n",
    "\n",
    "#Split the dataset into Training and Testing Data\n",
    "target = pd.Series(labelencoder.fit_transform(target))\n",
    "accidentData_train, accidentData_test, target_train, target_test = train_test_split(accidentData, target, test_size = 0.3)\n",
    "\n",
    "# Create adaboost classifer object\n",
    "adaboostClassifier = AdaBoostClassifier(n_estimators = 50, learning_rate = 1)\n",
    "\n",
    "# Train Adaboost Classifer\n",
    "trainedModel = adaboostClassifier.fit(accidentData_train, target_train)\n",
    "\n",
    "#Predict the response for test dataset\n",
    "target_pred = trainedModel.predict(accidentData_test)\n",
    "\n",
    "#Printing the Accuracy\n",
    "print(\"Accuracy:\", metrics.accuracy_score(target_test, target_pred))"
   ]
  },
  {
   "cell_type": "code",
   "execution_count": 11,
   "metadata": {},
   "outputs": [
    {
     "name": "stdout",
     "output_type": "stream",
     "text": [
      "{'Andhra Pradesh': 1, 'Arunachal Pradesh': 2, 'Assam': 3, 'Bihar': 4, 'Chhattisgarh': 6, 'Goa': 10, 'Gujarat': 11, 'Haryana': 12, 'Himachal Pradesh': 13, 'Jammu & Kashmir': 14, 'Jharkhand': 15, 'Karnataka': 16, 'Kerala': 17, 'Madhya Pradesh': 19, 'Maharashtra': 20, 'Manipur': 21, 'Meghalaya': 22, 'Mizoram': 23, 'Nagaland': 24, 'Orissa': 25, 'Punjab': 27, 'Rajasthan': 28, 'Sikkim': 29, 'Tamil Nadu': 30, 'Telangana': 31, 'Tripura': 32, 'Uttarakhand': 34, 'Uttar Pradesh': 33, 'West Bengal': 35, 'A & N Islands': 0, 'Chandigarh': 5, 'D & N Haveli': 7, 'Daman & Diu': 8, 'Delhi': 9, 'Lakshadweep': 18, 'Puducherry': 26, 'T-Junction': 4, 'Y-Junction': 5, 'Four arm Junction': 0, 'Staggered Junction': 3, 'Round about Junction': 2, 'Others': 1, 'Less than 5 years': 4, '5.1 - 10 Years': 1, '10.1 - 15 Years': 0, '> 15 Years': 2, 'Age not known': 3, '18 Yrs -Male': 1, '18 Yrs - Female': 0, '18-25 Yrs - Male': 3, '18-25 Yrs - Female': 2, '25-35 Yrs- Male': 5, '25-35 Yrs - Female': 4, '35-40 Yrs- Male': 7, '35-40 Yrs - Female': 6, '45-60 Yrs- Male': 9, '45-60 Yrs- Female': 8, '60 Yrs above- Male': 11, '60 Yrs above -Female': 10, 'Age not known - Male': 13, 'Age not known - Female': 12, 'Drivers': 0, 'Passengers': 1, 'Residential Area': 3, 'Institutional Area': 0, 'Market/Commercial Area': 1, 'Open Area': 2, 'Urban': 1, 'Rural': 0, 'Normally Loaded': 0, 'Overloaded/Hangin': 2, 'Over-Speeding': 3, 'Drunken Driving/Consumption of Alcohol & Drug': 1, 'Driving on Wrong Side': 0, 'Jumping Red Light': 2, 'Use of Mobile Phone': 4, 'Sunny/Clear': 4, 'Rainy': 3, 'Foggy & Misty': 0, 'Hail/Sleet': 1, 'Pedestrian - Male': 11, 'Pedestrian - Female': 10, 'Bycycles - Male': 5, 'Bycycles - Female': 4, 'Two Wheelers - Male': 15, 'Two Wheelers - Female': 14, 'Auto Rickshaws - Male': 1, 'Auto Rickshaws - Female': 0, 'Cars & taxies Vans & LMV - Male': 7, 'Cars & taxies Vans & LMV - Female': 6, 'Trucks/Lorries - Male': 13, 'Trucks/Lorries - Female': 12, 'Buses - Male': 3, 'Buses - Female': 2, 'Other Motor Vehicles - Male': 9, 'Other Motor Vehicles - Female': 8, 'Straight Road': 7, 'Curved Road': 2, 'Bridge': 0, 'Culvert': 1, 'Pot Holes': 5, 'Steep Grade': 6, 'Ongoing Road Works/Under Construction': 3, 'License Valid Permanent': 1, \"Learner's Licence\": 0, 'Without Licence': 2, '06-0900hrs - (Day)': 2, '09-1200hrs - (Day)': 3, '12-1500hrs - (Day)': 4, '15-1800hrs - (Day)': 5, '18-2100hrs - (Night)': 6, '21-2400hrs - (Night)': 7, '00-300hrs - (Night)': 0, '03-600hrs - (Night)': 1, 'Unknown Time': 8}\n"
     ]
    }
   ],
   "source": [
    "#Extracting the column index for every attribute\n",
    "columnCodes = {}\n",
    "for column in accidentData:\n",
    "    if(column != 'ACCIDENT OCCURRENCE'):\n",
    "        for i in range(0,576):\n",
    "            col = accidentDataDummy[column][i]\n",
    "            code = accidentData[column][i]\n",
    "            if col in columnCodes.keys():\n",
    "                continue\n",
    "            else:\n",
    "                columnCodes[col] = code\n",
    "print(columnCodes)"
   ]
  },
  {
   "cell_type": "code",
   "execution_count": 12,
   "metadata": {},
   "outputs": [],
   "source": [
    "testData1 = {'States/UTs':['Kerala'],\n",
    "             'JUNCTION':['Four arm Junction'],\n",
    "             'VEHICLE AGE':['> 15 Years'],\n",
    "             'HUMAN AGE AND SEX':['45-60 Yrs- Male'],\n",
    "             'PERSON WITHOUT SAFETY PRECAUTIONS':['Drivers'],\n",
    "             'AREA':['Residential Area'],\n",
    "             'TYPE OF PLACE':['Urban'],\n",
    "             'LOAD OF VEHICLE':['Others'],\n",
    "             'TRAFFIC RULES VIOLATION':['Jumping Red Light'],\n",
    "             'WEATHER':['Hail/Sleet'],\n",
    "             'VEHICLE TYPE AND SEX':['Cars & taxies Vans & LMV - Male'],\n",
    "             'TYPE OF ROAD':['Straight Road'],\n",
    "             'LICENSE':['Without Licence'],\n",
    "             'TIME':['Unknown Time']}"
   ]
  },
  {
   "cell_type": "code",
   "execution_count": 13,
   "metadata": {},
   "outputs": [
    {
     "name": "stdout",
     "output_type": "stream",
     "text": [
      "{'States/UTs': [17], 'JUNCTION': [0], 'VEHICLE AGE': [2], 'HUMAN AGE AND SEX': [9], 'PERSON WITHOUT SAFETY PRECAUTIONS': [0], 'AREA': [3], 'TYPE OF PLACE': [1], 'LOAD OF VEHICLE': [1], 'TRAFFIC RULES VIOLATION': [2], 'WEATHER': [1], 'VEHICLE TYPE AND SEX': [7], 'TYPE OF ROAD': [7], 'LICENSE': [2], 'TIME': [8]}\n",
      "   States/UTs  JUNCTION  VEHICLE AGE  HUMAN AGE AND SEX  \\\n",
      "0          17         0            2                  9   \n",
      "\n",
      "   PERSON WITHOUT SAFETY PRECAUTIONS  AREA  TYPE OF PLACE  LOAD OF VEHICLE  \\\n",
      "0                                  0     3              1                1   \n",
      "\n",
      "   TRAFFIC RULES VIOLATION  WEATHER  VEHICLE TYPE AND SEX  TYPE OF ROAD  \\\n",
      "0                        2        1                     7             7   \n",
      "\n",
      "   LICENSE  TIME  \n",
      "0        2     8  \n"
     ]
    }
   ],
   "source": [
    "#Now the test values are compared with the Column Codes and store them\n",
    "for col in testData1:\n",
    "    code = [columnCodes[''.join(testData1[col])]]\n",
    "    testData1[col] = code\n",
    "print(testData1)\n",
    "\n",
    "testDataFrame = pd.DataFrame.from_dict(testData1)\n",
    "print(testDataFrame)"
   ]
  },
  {
   "cell_type": "code",
   "execution_count": 14,
   "metadata": {},
   "outputs": [
    {
     "name": "stdout",
     "output_type": "stream",
     "text": [
      "Yes, there is a chance of Accident\n"
     ]
    }
   ],
   "source": [
    "predictionValue = trainedModel.predict(testDataFrame)\n",
    "if(predictionValue == 1):\n",
    "    print(\"Yes, there is a chance of Accident\")\n",
    "else:\n",
    "    print(\"No, it is safe\")"
   ]
  },
  {
   "cell_type": "code",
   "execution_count": 18,
   "metadata": {},
   "outputs": [],
   "source": [
    "testData2 = {'States/UTs':['Chhattisgarh'],\n",
    "             'JUNCTION':['Staggered Junction'],\n",
    "             'VEHICLE AGE':['> 15 Years'],\n",
    "             'HUMAN AGE AND SEX':['45-60 Yrs- Male'],\n",
    "             'PERSON WITHOUT SAFETY PRECAUTIONS':['Passengers'],\n",
    "             'AREA':['Residential Area'],\n",
    "             'TYPE OF PLACE':['Rural'],\n",
    "             'LOAD OF VEHICLE':['Others'],\n",
    "             'TRAFFIC RULES VIOLATION':['Jumping Red Light'],\n",
    "             'WEATHER':['Hail/Sleet'],\n",
    "             'VEHICLE TYPE AND SEX':['Other Motor Vehicles - Female'],\n",
    "             'TYPE OF ROAD':['Others'],\n",
    "             'LICENSE':['Without Licence'],\n",
    "             'TIME':['Unknown Time']}"
   ]
  },
  {
   "cell_type": "code",
   "execution_count": 19,
   "metadata": {},
   "outputs": [
    {
     "name": "stdout",
     "output_type": "stream",
     "text": [
      "{'States/UTs': [6], 'JUNCTION': [3], 'VEHICLE AGE': [2], 'HUMAN AGE AND SEX': [9], 'PERSON WITHOUT SAFETY PRECAUTIONS': [1], 'AREA': [3], 'TYPE OF PLACE': [0], 'LOAD OF VEHICLE': [1], 'TRAFFIC RULES VIOLATION': [2], 'WEATHER': [1], 'VEHICLE TYPE AND SEX': [8], 'TYPE OF ROAD': [1], 'LICENSE': [2], 'TIME': [8]}\n"
     ]
    }
   ],
   "source": [
    "#Now the test values are compared with the Column Codes and store them\n",
    "for col in testData2:\n",
    "    code = [columnCodes[''.join(testData2[col])]]\n",
    "    testData2[col] = code\n",
    "print(testData2)\n",
    "testDataFrame = pd.DataFrame.from_dict(testData2)"
   ]
  },
  {
   "cell_type": "code",
   "execution_count": 20,
   "metadata": {},
   "outputs": [
    {
     "name": "stdout",
     "output_type": "stream",
     "text": [
      "No, it is safe\n"
     ]
    }
   ],
   "source": [
    "predictionValue = trainedModel.predict(testDataFrame)\n",
    "if(predictionValue == 1):\n",
    "    print(\"Yes, there is a chance of Accident\")\n",
    "else:\n",
    "    print(\"No, it is safe\")"
   ]
  },
  {
   "cell_type": "code",
   "execution_count": 21,
   "metadata": {},
   "outputs": [],
   "source": [
    "testData3 = {'States/UTs':['Puducherry'],\n",
    "             'JUNCTION':['Staggered Junction'],\n",
    "             'VEHICLE AGE':['> 15 Years'],\n",
    "             'HUMAN AGE AND SEX':['45-60 Yrs- Male'],\n",
    "             'PERSON WITHOUT SAFETY PRECAUTIONS':['Passengers'],\n",
    "             'AREA':['Residential Area'],\n",
    "             'TYPE OF PLACE':['Rural'],\n",
    "             'LOAD OF VEHICLE':['Others'],\n",
    "             'TRAFFIC RULES VIOLATION':['Jumping Red Light'],\n",
    "             'WEATHER':['Hail/Sleet'],\n",
    "             'VEHICLE TYPE AND SEX':['Other Motor Vehicles - Female'],\n",
    "             'TYPE OF ROAD':['Others'],\n",
    "             'LICENSE':['Without Licence'],\n",
    "             'TIME':['Unknown Time']}"
   ]
  },
  {
   "cell_type": "code",
   "execution_count": 22,
   "metadata": {},
   "outputs": [
    {
     "name": "stdout",
     "output_type": "stream",
     "text": [
      "{'States/UTs': [26], 'JUNCTION': [3], 'VEHICLE AGE': [2], 'HUMAN AGE AND SEX': [9], 'PERSON WITHOUT SAFETY PRECAUTIONS': [1], 'AREA': [3], 'TYPE OF PLACE': [0], 'LOAD OF VEHICLE': [1], 'TRAFFIC RULES VIOLATION': [2], 'WEATHER': [1], 'VEHICLE TYPE AND SEX': [8], 'TYPE OF ROAD': [1], 'LICENSE': [2], 'TIME': [8]}\n"
     ]
    }
   ],
   "source": [
    "#Now the test values are compared with the Column Codes and store them\n",
    "for col in testData3:\n",
    "    code = [columnCodes[''.join(testData3[col])]]\n",
    "    testData3[col] = code\n",
    "print(testData3)\n",
    "testDataFrame = pd.DataFrame.from_dict(testData3)"
   ]
  },
  {
   "cell_type": "code",
   "execution_count": 23,
   "metadata": {},
   "outputs": [
    {
     "name": "stdout",
     "output_type": "stream",
     "text": [
      "No, it is safe\n"
     ]
    }
   ],
   "source": [
    "predictionValue = trainedModel.predict(testDataFrame)\n",
    "if(predictionValue == 1):\n",
    "    print(\"Yes, there is a chance of Accident\")\n",
    "else:\n",
    "    print(\"No, it is safe\")"
   ]
  },
  {
   "cell_type": "code",
   "execution_count": 24,
   "metadata": {},
   "outputs": [],
   "source": [
    "testData4 = {'States/UTs':['Lakshadweep'],\n",
    "             'JUNCTION':['Staggered Junction'],\n",
    "             'VEHICLE AGE':['10.1 - 15 Years'],\n",
    "             'HUMAN AGE AND SEX':['45-60 Yrs- Male'],\n",
    "             'PERSON WITHOUT SAFETY PRECAUTIONS':['Drivers'],\n",
    "             'AREA':['Institutional Area'],\n",
    "             'TYPE OF PLACE':['Rural'],\n",
    "             'LOAD OF VEHICLE':['Others'],\n",
    "             'TRAFFIC RULES VIOLATION':['Jumping Red Light'],\n",
    "             'WEATHER':['Others'],\n",
    "             'VEHICLE TYPE AND SEX':['Other Motor Vehicles - Female'],\n",
    "             'TYPE OF ROAD':['Others'],\n",
    "             'LICENSE':['License Valid Permanent'],\n",
    "             'TIME':['00-300hrs - (Night)']}"
   ]
  },
  {
   "cell_type": "code",
   "execution_count": 25,
   "metadata": {},
   "outputs": [
    {
     "name": "stdout",
     "output_type": "stream",
     "text": [
      "{'States/UTs': [18], 'JUNCTION': [3], 'VEHICLE AGE': [0], 'HUMAN AGE AND SEX': [9], 'PERSON WITHOUT SAFETY PRECAUTIONS': [0], 'AREA': [0], 'TYPE OF PLACE': [0], 'LOAD OF VEHICLE': [1], 'TRAFFIC RULES VIOLATION': [2], 'WEATHER': [1], 'VEHICLE TYPE AND SEX': [8], 'TYPE OF ROAD': [1], 'LICENSE': [1], 'TIME': [0]}\n"
     ]
    }
   ],
   "source": [
    "#Now the test values are compared with the Column Codes and store them\n",
    "for col in testData4:\n",
    "    code = [columnCodes[''.join(testData4[col])]]\n",
    "    testData4[col] = code\n",
    "print(testData4)\n",
    "testDataFrame = pd.DataFrame.from_dict(testData4)"
   ]
  },
  {
   "cell_type": "code",
   "execution_count": 26,
   "metadata": {},
   "outputs": [
    {
     "name": "stdout",
     "output_type": "stream",
     "text": [
      "No, it is safe\n"
     ]
    }
   ],
   "source": [
    "predictionValue = trainedModel.predict(testDataFrame)\n",
    "if(predictionValue == 1):\n",
    "    print(\"Yes, there is a chance of Accident\")\n",
    "else:\n",
    "    print(\"No, it is safe\")"
   ]
  },
  {
   "cell_type": "code",
   "execution_count": 27,
   "metadata": {},
   "outputs": [],
   "source": [
    "testData5 = {'States/UTs':['Delhi'],\n",
    "             'JUNCTION':['Staggered Junction'],\n",
    "             'VEHICLE AGE':['10.1 - 15 Years'],\n",
    "             'HUMAN AGE AND SEX':['45-60 Yrs- Male'],\n",
    "             'PERSON WITHOUT SAFETY PRECAUTIONS':['Drivers'],\n",
    "             'AREA':['Institutional Area'],\n",
    "             'TYPE OF PLACE':['Rural'],\n",
    "             'LOAD OF VEHICLE':['Others'],\n",
    "             'TRAFFIC RULES VIOLATION':['Jumping Red Light'],\n",
    "             'WEATHER':['Others'],\n",
    "             'VEHICLE TYPE AND SEX':['Other Motor Vehicles - Female'],\n",
    "             'TYPE OF ROAD':['Others'],\n",
    "             'LICENSE':['License Valid Permanent'],\n",
    "             'TIME':['00-300hrs - (Night)']}"
   ]
  },
  {
   "cell_type": "code",
   "execution_count": 28,
   "metadata": {},
   "outputs": [
    {
     "name": "stdout",
     "output_type": "stream",
     "text": [
      "{'States/UTs': [9], 'JUNCTION': [3], 'VEHICLE AGE': [0], 'HUMAN AGE AND SEX': [9], 'PERSON WITHOUT SAFETY PRECAUTIONS': [0], 'AREA': [0], 'TYPE OF PLACE': [0], 'LOAD OF VEHICLE': [1], 'TRAFFIC RULES VIOLATION': [2], 'WEATHER': [1], 'VEHICLE TYPE AND SEX': [8], 'TYPE OF ROAD': [1], 'LICENSE': [1], 'TIME': [0]}\n"
     ]
    }
   ],
   "source": [
    "#Now the test values are compared with the Column Codes and store them\n",
    "for col in testData5:\n",
    "    code = [columnCodes[''.join(testData5[col])]]\n",
    "    testData5[col] = code\n",
    "print(testData5)\n",
    "testDataFrame = pd.DataFrame.from_dict(testData5)"
   ]
  },
  {
   "cell_type": "code",
   "execution_count": 29,
   "metadata": {},
   "outputs": [
    {
     "name": "stdout",
     "output_type": "stream",
     "text": [
      "No, it is safe\n"
     ]
    }
   ],
   "source": [
    "predictionValue = trainedModel.predict(testDataFrame)\n",
    "if(predictionValue == 1):\n",
    "    print(\"Yes, there is a chance of Accident\")\n",
    "else:\n",
    "    print(\"No, it is safe\")"
   ]
  },
  {
   "cell_type": "code",
   "execution_count": 30,
   "metadata": {},
   "outputs": [],
   "source": [
    "testData6 = {'States/UTs':['Uttar Pradesh'],\n",
    "             'JUNCTION':['Staggered Junction'],\n",
    "             'VEHICLE AGE':['10.1 - 15 Years'],\n",
    "             'HUMAN AGE AND SEX':['45-60 Yrs- Male'],\n",
    "             'PERSON WITHOUT SAFETY PRECAUTIONS':['Drivers'],\n",
    "             'AREA':['Institutional Area'],\n",
    "             'TYPE OF PLACE':['Rural'],\n",
    "             'LOAD OF VEHICLE':['Others'],\n",
    "             'TRAFFIC RULES VIOLATION':['Jumping Red Light'],\n",
    "             'WEATHER':['Others'],\n",
    "             'VEHICLE TYPE AND SEX':['Other Motor Vehicles - Female'],\n",
    "             'TYPE OF ROAD':['Others'],\n",
    "             'LICENSE':['License Valid Permanent'],\n",
    "             'TIME':['00-300hrs - (Night)']}"
   ]
  },
  {
   "cell_type": "code",
   "execution_count": 31,
   "metadata": {},
   "outputs": [
    {
     "name": "stdout",
     "output_type": "stream",
     "text": [
      "{'States/UTs': [33], 'JUNCTION': [3], 'VEHICLE AGE': [0], 'HUMAN AGE AND SEX': [9], 'PERSON WITHOUT SAFETY PRECAUTIONS': [0], 'AREA': [0], 'TYPE OF PLACE': [0], 'LOAD OF VEHICLE': [1], 'TRAFFIC RULES VIOLATION': [2], 'WEATHER': [1], 'VEHICLE TYPE AND SEX': [8], 'TYPE OF ROAD': [1], 'LICENSE': [1], 'TIME': [0]}\n"
     ]
    }
   ],
   "source": [
    "#Now the test values are compared with the Column Codes and store them\n",
    "for col in testData6:\n",
    "    code = [columnCodes[''.join(testData6[col])]]\n",
    "    testData6[col] = code\n",
    "print(testData6)\n",
    "testDataFrame = pd.DataFrame.from_dict(testData6)"
   ]
  },
  {
   "cell_type": "code",
   "execution_count": 32,
   "metadata": {},
   "outputs": [
    {
     "name": "stdout",
     "output_type": "stream",
     "text": [
      "Yes, there is a chance of Accident\n"
     ]
    }
   ],
   "source": [
    "predictionValue = trainedModel.predict(testDataFrame)\n",
    "if(predictionValue == 1):\n",
    "    print(\"Yes, there is a chance of Accident\")\n",
    "else:\n",
    "    print(\"No, it is safe\")"
   ]
  },
  {
   "cell_type": "code",
   "execution_count": 33,
   "metadata": {},
   "outputs": [],
   "source": [
    "testData7 = {'States/UTs':['A & N Islands'],\n",
    "             'JUNCTION':['Four arm Junction'],\n",
    "             'VEHICLE AGE':['> 15 Years'],\n",
    "             'HUMAN AGE AND SEX':['45-60 Yrs- Male'],\n",
    "             'PERSON WITHOUT SAFETY PRECAUTIONS':['Drivers'],\n",
    "             'AREA':['Residential Area'],\n",
    "             'TYPE OF PLACE':['Urban'],\n",
    "             'LOAD OF VEHICLE':['Others'],\n",
    "             'TRAFFIC RULES VIOLATION':['Jumping Red Light'],\n",
    "             'WEATHER':['Hail/Sleet'],\n",
    "             'VEHICLE TYPE AND SEX':['Cars & taxies Vans & LMV - Male'],\n",
    "             'TYPE OF ROAD':['Straight Road'],\n",
    "             'LICENSE':['Without Licence'],\n",
    "             'TIME':['Unknown Time']}"
   ]
  },
  {
   "cell_type": "code",
   "execution_count": 34,
   "metadata": {},
   "outputs": [
    {
     "name": "stdout",
     "output_type": "stream",
     "text": [
      "{'States/UTs': [0], 'JUNCTION': [0], 'VEHICLE AGE': [2], 'HUMAN AGE AND SEX': [9], 'PERSON WITHOUT SAFETY PRECAUTIONS': [0], 'AREA': [3], 'TYPE OF PLACE': [1], 'LOAD OF VEHICLE': [1], 'TRAFFIC RULES VIOLATION': [2], 'WEATHER': [1], 'VEHICLE TYPE AND SEX': [7], 'TYPE OF ROAD': [7], 'LICENSE': [2], 'TIME': [8]}\n"
     ]
    }
   ],
   "source": [
    "#Now the test values are compared with the Column Codes and store them\n",
    "for col in testData7:\n",
    "    code = [columnCodes[''.join(testData7[col])]]\n",
    "    testData7[col] = code\n",
    "print(testData7)\n",
    "testDataFrame = pd.DataFrame.from_dict(testData7)"
   ]
  },
  {
   "cell_type": "code",
   "execution_count": 35,
   "metadata": {},
   "outputs": [
    {
     "name": "stdout",
     "output_type": "stream",
     "text": [
      "No, it is safe\n"
     ]
    }
   ],
   "source": [
    "predictionValue = trainedModel.predict(testDataFrame)\n",
    "if(predictionValue == 1):\n",
    "    print(\"Yes, there is a chance of Accident\")\n",
    "else:\n",
    "    print(\"No, it is safe\")"
   ]
  },
  {
   "cell_type": "code",
   "execution_count": 36,
   "metadata": {},
   "outputs": [],
   "source": [
    "testData8 = {'States/UTs':['Orissa'],\n",
    "             'JUNCTION':['Round about Junction'],\n",
    "             'VEHICLE AGE':['> 15 Years'],\n",
    "             'HUMAN AGE AND SEX':['45-60 Yrs- Male'],\n",
    "             'PERSON WITHOUT SAFETY PRECAUTIONS':['Drivers'],\n",
    "             'AREA':['Residential Area'],\n",
    "             'TYPE OF PLACE':['Rural'],\n",
    "             'LOAD OF VEHICLE':['Others'],\n",
    "             'TRAFFIC RULES VIOLATION':['Over-Speeding'],\n",
    "             'WEATHER':['Hail/Sleet'],\n",
    "             'VEHICLE TYPE AND SEX':['Cars & taxies Vans & LMV - Male'],\n",
    "             'TYPE OF ROAD':['Straight Road'],\n",
    "             'LICENSE':['Without Licence'],\n",
    "             'TIME':['18-2100hrs - (Night)']}"
   ]
  },
  {
   "cell_type": "code",
   "execution_count": 37,
   "metadata": {},
   "outputs": [
    {
     "name": "stdout",
     "output_type": "stream",
     "text": [
      "{'States/UTs': [25], 'JUNCTION': [2], 'VEHICLE AGE': [2], 'HUMAN AGE AND SEX': [9], 'PERSON WITHOUT SAFETY PRECAUTIONS': [0], 'AREA': [3], 'TYPE OF PLACE': [0], 'LOAD OF VEHICLE': [1], 'TRAFFIC RULES VIOLATION': [3], 'WEATHER': [1], 'VEHICLE TYPE AND SEX': [7], 'TYPE OF ROAD': [7], 'LICENSE': [2], 'TIME': [6]}\n"
     ]
    }
   ],
   "source": [
    "#Now the test values are compared with the Column Codes and store them\n",
    "for col in testData8:\n",
    "    code = [columnCodes[''.join(testData8[col])]]\n",
    "    testData8[col] = code\n",
    "print(testData8)\n",
    "testDataFrame = pd.DataFrame.from_dict(testData8)"
   ]
  },
  {
   "cell_type": "code",
   "execution_count": 38,
   "metadata": {},
   "outputs": [
    {
     "name": "stdout",
     "output_type": "stream",
     "text": [
      "No, it is safe\n"
     ]
    }
   ],
   "source": [
    "predictionValue = trainedModel.predict(testDataFrame)\n",
    "if(predictionValue == 1):\n",
    "    print(\"Yes, there is a chance of Accident\")\n",
    "else:\n",
    "    print(\"No, it is safe\")"
   ]
  }
 ],
 "metadata": {
  "kernelspec": {
   "display_name": "Python 3",
   "language": "python",
   "name": "python3"
  },
  "language_info": {
   "codemirror_mode": {
    "name": "ipython",
    "version": 3
   },
   "file_extension": ".py",
   "mimetype": "text/x-python",
   "name": "python",
   "nbconvert_exporter": "python",
   "pygments_lexer": "ipython3",
   "version": "3.7.6"
  }
 },
 "nbformat": 4,
 "nbformat_minor": 4
}
